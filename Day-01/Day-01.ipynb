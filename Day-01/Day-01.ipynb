{
 "cells": [
  {
   "cell_type": "code",
   "execution_count": 2,
   "id": "39674be8",
   "metadata": {},
   "outputs": [
    {
     "name": "stdout",
     "output_type": "stream",
     "text": [
      "2\n"
     ]
    }
   ],
   "source": [
    "a=10\n",
    "b=22\n",
    "print(a&b)"
   ]
  },
  {
   "cell_type": "code",
   "execution_count": 6,
   "id": "622ef186",
   "metadata": {},
   "outputs": [
    {
     "name": "stdout",
     "output_type": "stream",
     "text": [
      "2\n"
     ]
    }
   ],
   "source": [
    "a=2\n",
    "b=10\n",
    "print(a or b)"
   ]
  },
  {
   "cell_type": "code",
   "execution_count": 13,
   "id": "f5b4b618",
   "metadata": {},
   "outputs": [
    {
     "name": "stdout",
     "output_type": "stream",
     "text": [
      "35\n",
      "['__all__', '__builtins__', '__cached__', '__doc__', '__file__', '__loader__', '__name__', '__package__', '__spec__', 'iskeyword', 'kwlist', 'main']\n",
      "<class 'list'>\n"
     ]
    }
   ],
   "source": [
    "import keyword\n",
    "keyword.kwlist\n",
    "print(len(keyword.kwlist))\n",
    "print(dir(keyword))\n",
    "print(type(keyword.kwlist))"
   ]
  },
  {
   "cell_type": "markdown",
   "id": "54309098",
   "metadata": {},
   "source": [
    "# Functions\n",
    "    - To Perform a specific task\n",
    "    Syntax:\n",
    "        def functionname(arguments):\n",
    "            //stmnts\n",
    "            return return_value"
   ]
  },
  {
   "cell_type": "markdown",
   "id": "bdac3d20",
   "metadata": {},
   "source": [
    "# User Defined Functions\n",
    "    - with return_type and with arguments\n",
    "    - with return_type and without arguments\n",
    "    - without return_type and with arguments\n",
    "    - without return_type and without arguments"
   ]
  },
  {
   "cell_type": "code",
   "execution_count": 15,
   "id": "8431eaaf",
   "metadata": {},
   "outputs": [
    {
     "name": "stdout",
     "output_type": "stream",
     "text": [
      "Enter a number: 45798\n",
      "Given number is: 45798 and its reverse is: 89754\n"
     ]
    }
   ],
   "source": [
    "# - with return_type and with arguments\n",
    "# Reading: Main\n",
    "# Printing: Main\n",
    "# Logic: Function\n",
    "def rvre(y):\n",
    "    r = 0\n",
    "    while y!=0:\n",
    "        r = r*10+y%10\n",
    "        y//=10\n",
    "    return r\n",
    "\n",
    "a=int(input(\"Enter a number: \"))\n",
    "print(f\"Given number is: {a} and its reverse is: {rvre(a)}\")"
   ]
  },
  {
   "cell_type": "code",
   "execution_count": 16,
   "id": "1fd9b113",
   "metadata": {},
   "outputs": [
    {
     "name": "stdout",
     "output_type": "stream",
     "text": [
      "Enter a number: 45678\n",
      "Given number is: 45678  and its reverse is: 87654\n"
     ]
    }
   ],
   "source": [
    "# - with return_type and without arguments\n",
    "# Reading: Function\n",
    "# Printing: Main\n",
    "# Logic: Function\n",
    "def rvre():\n",
    "    y=int(input(\"Enter a number: \"))\n",
    "    print(f\"Given number is: {y} \",end=\" \")\n",
    "    r = 0\n",
    "    while y!=0:\n",
    "        r = r*10+y%10\n",
    "        y//=10\n",
    "    return r\n",
    "\n",
    "print(f\"and its reverse is: {rvre()}\")"
   ]
  },
  {
   "cell_type": "code",
   "execution_count": null,
   "id": "a1463a4f",
   "metadata": {},
   "outputs": [],
   "source": [
    "# - without return_type and with arguments\n",
    "# Reading: Main\n",
    "# Printing: Function\n",
    "# Logic: Function\n",
    "def rvre(y):\n",
    "    print(f\"Given number is: {y} and its reverse is: \",end=\" \")\n",
    "    r = 0\n",
    "    while y!=0:\n",
    "        r = r*10+y%10\n",
    "        y//=10\n",
    "    print(f\"{r}\")\n",
    "    return \n",
    "\n",
    "a=int(input(\"Enter a number: \"))\n",
    "rvre(a)"
   ]
  },
  {
   "cell_type": "code",
   "execution_count": null,
   "id": "d38d8ef0",
   "metadata": {},
   "outputs": [],
   "source": [
    "# - without return_type and without arguments\n",
    "# Reading: Function\n",
    "# Printing: Function\n",
    "# Logic: Function\n",
    "def rvre():\n",
    "    y=int(input(\"Enter a number: \"))\n",
    "    print(f\"Given number is: {y} and its reverse is: \",end=\" \")\n",
    "    r = 0\n",
    "    while y!=0:\n",
    "        r = r*10+y%10\n",
    "        y//=10\n",
    "    print(f\"{r}\")\n",
    "    return \n",
    "\n",
    "rvre()"
   ]
  },
  {
   "cell_type": "code",
   "execution_count": 17,
   "id": "72076420",
   "metadata": {},
   "outputs": [
    {
     "name": "stdout",
     "output_type": "stream",
     "text": [
      "<class 'set'> <class 'dict'>\n"
     ]
    }
   ],
   "source": [
    "r = {4}\n",
    "q = {}\n",
    "print(type(r),type(q))"
   ]
  },
  {
   "cell_type": "code",
   "execution_count": null,
   "id": "7b9c8d8b",
   "metadata": {},
   "outputs": [],
   "source": []
  }
 ],
 "metadata": {
  "kernelspec": {
   "display_name": "Python 3",
   "language": "python",
   "name": "python3"
  },
  "language_info": {
   "codemirror_mode": {
    "name": "ipython",
    "version": 3
   },
   "file_extension": ".py",
   "mimetype": "text/x-python",
   "name": "python",
   "nbconvert_exporter": "python",
   "pygments_lexer": "ipython3",
   "version": "3.7.5"
  }
 },
 "nbformat": 4,
 "nbformat_minor": 5
}
