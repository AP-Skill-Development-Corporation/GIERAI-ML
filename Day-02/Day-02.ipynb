{
 "cells": [
  {
   "cell_type": "markdown",
   "id": "17484f1c",
   "metadata": {},
   "source": [
    "# Argument Types:\n",
    "    - Default\n",
    "    - Required or Positional\n",
    "    - Keyword\n",
    "    - Variable Length"
   ]
  },
  {
   "cell_type": "markdown",
   "id": "14429658",
   "metadata": {},
   "source": [
    "# Default Argument:"
   ]
  },
  {
   "cell_type": "code",
   "execution_count": 2,
   "id": "c8dde3ea",
   "metadata": {},
   "outputs": [
    {
     "name": "stdout",
     "output_type": "stream",
     "text": [
      "Enter Roll Number: 11AK1A1201\n",
      "Enter Name: Raju\n",
      "Entered Roll Number is: 11AK1A1201\n",
      "Entered Name is: Raju\n",
      "Year is: 3\n"
     ]
    }
   ],
   "source": [
    "def stdnt(r,n,y=3):\n",
    "    print(f\"Entered Roll Number is: {r}\")\n",
    "    print(f\"Entered Name is: {n}\")\n",
    "    print(f\"Year is: {y}\")\n",
    "    return\n",
    "\n",
    "roll = input(\"Enter Roll Number: \")\n",
    "name = input(\"Enter Name: \")\n",
    "stdnt(roll,name)"
   ]
  },
  {
   "cell_type": "code",
   "execution_count": 4,
   "id": "e5ef7670",
   "metadata": {},
   "outputs": [
    {
     "name": "stdout",
     "output_type": "stream",
     "text": [
      "Enter Roll Number: 11AK1A1203\n",
      "Enter Name: Prasad\n",
      "Enter Year: 2\n",
      "Entered Roll Number is: 11AK1A1203\n",
      "Entered Name is: Prasad\n",
      "Year is: 2\n"
     ]
    }
   ],
   "source": [
    "def stdnt(r,n,y=3):\n",
    "    print(f\"Entered Roll Number is: {r}\")\n",
    "    print(f\"Entered Name is: {n}\")\n",
    "    print(f\"Year is: {y}\")\n",
    "    return\n",
    "\n",
    "roll = input(\"Enter Roll Number: \")\n",
    "name = input(\"Enter Name: \")\n",
    "year = int(input(\"Enter Year: \"))\n",
    "stdnt(roll,name,year)"
   ]
  },
  {
   "cell_type": "code",
   "execution_count": 5,
   "id": "6e37830a",
   "metadata": {},
   "outputs": [
    {
     "ename": "SyntaxError",
     "evalue": "non-default argument follows default argument (<ipython-input-5-56af1c460269>, line 1)",
     "output_type": "error",
     "traceback": [
      "\u001b[1;36m  File \u001b[1;32m\"<ipython-input-5-56af1c460269>\"\u001b[1;36m, line \u001b[1;32m1\u001b[0m\n\u001b[1;33m    def stdnt(r,n=\"Lalitha\",y):\u001b[0m\n\u001b[1;37m             ^\u001b[0m\n\u001b[1;31mSyntaxError\u001b[0m\u001b[1;31m:\u001b[0m non-default argument follows default argument\n"
     ]
    }
   ],
   "source": [
    "def stdnt(r,n=\"Lalitha\",y):\n",
    "    print(f\"Entered Roll Number is: {r}\")\n",
    "    print(f\"Entered Name is: {n}\")\n",
    "    print(f\"Year is: {y}\")\n",
    "    return\n",
    "\n",
    "roll = input(\"Enter Roll Number: \")\n",
    "name = input(\"Enter Name: \")\n",
    "year = int(input(\"Enter Year: \"))\n",
    "stdnt(roll,name,year)"
   ]
  },
  {
   "cell_type": "markdown",
   "id": "d9406e9e",
   "metadata": {},
   "source": [
    "# Required or Positional argument:"
   ]
  },
  {
   "cell_type": "code",
   "execution_count": 6,
   "id": "ba76b073",
   "metadata": {},
   "outputs": [
    {
     "name": "stdout",
     "output_type": "stream",
     "text": [
      "Enter Name: Harish\n",
      "Enter Id: E101\n"
     ]
    },
    {
     "ename": "TypeError",
     "evalue": "emp() missing 1 required positional argument: 'p'",
     "output_type": "error",
     "traceback": [
      "\u001b[1;31m------------------------------------------------------------\u001b[0m",
      "\u001b[1;31mTypeError\u001b[0m                  Traceback (most recent call last)",
      "\u001b[1;32m<ipython-input-6-13d9c8f769a3>\u001b[0m in \u001b[0;36m<module>\u001b[1;34m\u001b[0m\n\u001b[0;32m      6\u001b[0m \u001b[0men\u001b[0m \u001b[1;33m=\u001b[0m \u001b[0minput\u001b[0m\u001b[1;33m(\u001b[0m\u001b[1;34m\"Enter Name: \"\u001b[0m\u001b[1;33m)\u001b[0m\u001b[1;33m\u001b[0m\u001b[1;33m\u001b[0m\u001b[0m\n\u001b[0;32m      7\u001b[0m \u001b[0meid\u001b[0m \u001b[1;33m=\u001b[0m \u001b[0minput\u001b[0m\u001b[1;33m(\u001b[0m\u001b[1;34m\"Enter Id: \"\u001b[0m\u001b[1;33m)\u001b[0m\u001b[1;33m\u001b[0m\u001b[1;33m\u001b[0m\u001b[0m\n\u001b[1;32m----> 8\u001b[1;33m \u001b[0memp\u001b[0m\u001b[1;33m(\u001b[0m\u001b[0men\u001b[0m\u001b[1;33m,\u001b[0m\u001b[0meid\u001b[0m\u001b[1;33m)\u001b[0m\u001b[1;33m\u001b[0m\u001b[1;33m\u001b[0m\u001b[0m\n\u001b[0m",
      "\u001b[1;31mTypeError\u001b[0m: emp() missing 1 required positional argument: 'p'"
     ]
    }
   ],
   "source": [
    "def emp(n,i,p):\n",
    "    print(f\"Employee name is: {n}\")\n",
    "    print(f\"Employee id is: {i}\")\n",
    "    return\n",
    "\n",
    "en = input(\"Enter Name: \")\n",
    "eid = input(\"Enter Id: \")\n",
    "emp(en,eid)"
   ]
  },
  {
   "cell_type": "code",
   "execution_count": 7,
   "id": "2e435adc",
   "metadata": {},
   "outputs": [
    {
     "name": "stdout",
     "output_type": "stream",
     "text": [
      "Enter Name: Kiran\n",
      "Enter Id: E101\n",
      "Enter Salary: 12000\n"
     ]
    },
    {
     "ename": "TypeError",
     "evalue": "emp() takes 2 positional arguments but 3 were given",
     "output_type": "error",
     "traceback": [
      "\u001b[1;31m------------------------------------------------------------\u001b[0m",
      "\u001b[1;31mTypeError\u001b[0m                  Traceback (most recent call last)",
      "\u001b[1;32m<ipython-input-7-65867795c00a>\u001b[0m in \u001b[0;36m<module>\u001b[1;34m\u001b[0m\n\u001b[0;32m      7\u001b[0m \u001b[0meid\u001b[0m \u001b[1;33m=\u001b[0m \u001b[0minput\u001b[0m\u001b[1;33m(\u001b[0m\u001b[1;34m\"Enter Id: \"\u001b[0m\u001b[1;33m)\u001b[0m\u001b[1;33m\u001b[0m\u001b[1;33m\u001b[0m\u001b[0m\n\u001b[0;32m      8\u001b[0m \u001b[0mesal\u001b[0m \u001b[1;33m=\u001b[0m \u001b[0mint\u001b[0m\u001b[1;33m(\u001b[0m\u001b[0minput\u001b[0m\u001b[1;33m(\u001b[0m\u001b[1;34m\"Enter Salary: \"\u001b[0m\u001b[1;33m)\u001b[0m\u001b[1;33m)\u001b[0m\u001b[1;33m\u001b[0m\u001b[1;33m\u001b[0m\u001b[0m\n\u001b[1;32m----> 9\u001b[1;33m \u001b[0memp\u001b[0m\u001b[1;33m(\u001b[0m\u001b[0men\u001b[0m\u001b[1;33m,\u001b[0m\u001b[0meid\u001b[0m\u001b[1;33m,\u001b[0m\u001b[0mesal\u001b[0m\u001b[1;33m)\u001b[0m\u001b[1;33m\u001b[0m\u001b[1;33m\u001b[0m\u001b[0m\n\u001b[0m",
      "\u001b[1;31mTypeError\u001b[0m: emp() takes 2 positional arguments but 3 were given"
     ]
    }
   ],
   "source": [
    "def emp(n,i):\n",
    "    print(f\"Employee name is: {n}\")\n",
    "    print(f\"Employee id is: {i}\")\n",
    "    return\n",
    "\n",
    "en = input(\"Enter Name: \")\n",
    "eid = input(\"Enter Id: \")\n",
    "esal = int(input(\"Enter Salary: \"))\n",
    "emp(en,eid,esal)"
   ]
  },
  {
   "cell_type": "markdown",
   "id": "fa881770",
   "metadata": {},
   "source": [
    "# Keyword argument:"
   ]
  },
  {
   "cell_type": "code",
   "execution_count": 9,
   "id": "d91d3d13",
   "metadata": {},
   "outputs": [
    {
     "name": "stdout",
     "output_type": "stream",
     "text": [
      "Enter a name: Giri\n",
      "Enter id: E105\n",
      "Entered Name is: Giri\n",
      "Entered Id is: E105\n"
     ]
    }
   ],
   "source": [
    "def employee(i,n):\n",
    "    print(f\"Entered Name is: {n}\")\n",
    "    print(f\"Entered Id is: {i}\")\n",
    "    return\n",
    "\n",
    "name=input(\"Enter a name: \")\n",
    "eid = input(\"Enter id: \")\n",
    "employee(n=name,i=eid)"
   ]
  },
  {
   "cell_type": "code",
   "execution_count": 10,
   "id": "1a2c2a9b",
   "metadata": {},
   "outputs": [
    {
     "name": "stdout",
     "output_type": "stream",
     "text": [
      "Enter a name: Kalyan\n",
      "Enter id: E45\n"
     ]
    },
    {
     "ename": "TypeError",
     "evalue": "employee() got an unexpected keyword argument 'ie'",
     "output_type": "error",
     "traceback": [
      "\u001b[1;31m------------------------------------------------------------\u001b[0m",
      "\u001b[1;31mTypeError\u001b[0m                  Traceback (most recent call last)",
      "\u001b[1;32m<ipython-input-10-d001702c4775>\u001b[0m in \u001b[0;36m<module>\u001b[1;34m\u001b[0m\n\u001b[0;32m      6\u001b[0m \u001b[0mname\u001b[0m\u001b[1;33m=\u001b[0m\u001b[0minput\u001b[0m\u001b[1;33m(\u001b[0m\u001b[1;34m\"Enter a name: \"\u001b[0m\u001b[1;33m)\u001b[0m\u001b[1;33m\u001b[0m\u001b[1;33m\u001b[0m\u001b[0m\n\u001b[0;32m      7\u001b[0m \u001b[0meid\u001b[0m \u001b[1;33m=\u001b[0m \u001b[0minput\u001b[0m\u001b[1;33m(\u001b[0m\u001b[1;34m\"Enter id: \"\u001b[0m\u001b[1;33m)\u001b[0m\u001b[1;33m\u001b[0m\u001b[1;33m\u001b[0m\u001b[0m\n\u001b[1;32m----> 8\u001b[1;33m \u001b[0memployee\u001b[0m\u001b[1;33m(\u001b[0m\u001b[0mn\u001b[0m\u001b[1;33m=\u001b[0m\u001b[0mname\u001b[0m\u001b[1;33m,\u001b[0m\u001b[0mie\u001b[0m\u001b[1;33m=\u001b[0m\u001b[0meid\u001b[0m\u001b[1;33m)\u001b[0m\u001b[1;33m\u001b[0m\u001b[1;33m\u001b[0m\u001b[0m\n\u001b[0m",
      "\u001b[1;31mTypeError\u001b[0m: employee() got an unexpected keyword argument 'ie'"
     ]
    }
   ],
   "source": [
    "def employee(i,n):\n",
    "    print(f\"Entered Name is: {n}\")\n",
    "    print(f\"Entered Id is: {i}\")\n",
    "    return\n",
    "\n",
    "name=input(\"Enter a name: \")\n",
    "eid = input(\"Enter id: \")\n",
    "employee(n=name,ie=eid)"
   ]
  },
  {
   "cell_type": "code",
   "execution_count": 14,
   "id": "fdbf353d",
   "metadata": {},
   "outputs": [
    {
     "name": "stdout",
     "output_type": "stream",
     "text": [
      "Divya <class 'str'>\n",
      "(10, 45, 20, True) <class 'tuple'>\n"
     ]
    }
   ],
   "source": [
    "def rty(a,*b):\n",
    "    print(a,type(a))\n",
    "    print(b,type(b))\n",
    "    return\n",
    "\n",
    "rty('Divya',10,45,20,True)"
   ]
  },
  {
   "cell_type": "code",
   "execution_count": 17,
   "id": "3ad5f131",
   "metadata": {},
   "outputs": [
    {
     "name": "stdout",
     "output_type": "stream",
     "text": [
      "Divya <class 'str'>\n",
      "(10, 45, 20, True) <class 'tuple'>\n",
      "{'name': 'Suresh', 'age': 50, 'addr': 'Rjy'} <class 'dict'>\n"
     ]
    }
   ],
   "source": [
    "def rty(a,*b,**c):\n",
    "    print(a,type(a))\n",
    "    print(b,type(b))\n",
    "    print(c,type(c))\n",
    "    return\n",
    "\n",
    "rty('Divya',10,45,20,True,name='Suresh',age=50,addr='Rjy')"
   ]
  },
  {
   "cell_type": "code",
   "execution_count": 18,
   "id": "0f37646b",
   "metadata": {},
   "outputs": [
    {
     "ename": "SyntaxError",
     "evalue": "positional argument follows keyword argument (<ipython-input-18-d4f7197734b2>, line 7)",
     "output_type": "error",
     "traceback": [
      "\u001b[1;36m  File \u001b[1;32m\"<ipython-input-18-d4f7197734b2>\"\u001b[1;36m, line \u001b[1;32m7\u001b[0m\n\u001b[1;33m    rty('Divya',10,45,20,True,name='Suresh',age=50,addr='Rjy',45)\u001b[0m\n\u001b[1;37m                                                             ^\u001b[0m\n\u001b[1;31mSyntaxError\u001b[0m\u001b[1;31m:\u001b[0m positional argument follows keyword argument\n"
     ]
    }
   ],
   "source": [
    "def rty(a,*b,**c):\n",
    "    print(a,type(a))\n",
    "    print(b,type(b))\n",
    "    print(c,type(c))\n",
    "    return\n",
    "\n",
    "rty('Divya',10,45,20,True,name='Suresh',age=50,addr='Rjy',45)"
   ]
  },
  {
   "cell_type": "code",
   "execution_count": 19,
   "id": "ab0f8295",
   "metadata": {},
   "outputs": [
    {
     "ename": "SyntaxError",
     "evalue": "positional argument follows keyword argument (<ipython-input-19-bf36da86d3a7>, line 7)",
     "output_type": "error",
     "traceback": [
      "\u001b[1;36m  File \u001b[1;32m\"<ipython-input-19-bf36da86d3a7>\"\u001b[1;36m, line \u001b[1;32m7\u001b[0m\n\u001b[1;33m    rty('Divya',state='AP',10,45,20,True,name='Suresh',age=50,addr='Rjy')\u001b[0m\n\u001b[1;37m                          ^\u001b[0m\n\u001b[1;31mSyntaxError\u001b[0m\u001b[1;31m:\u001b[0m positional argument follows keyword argument\n"
     ]
    }
   ],
   "source": [
    "def rty(a,*b,**c):\n",
    "    print(a,type(a))\n",
    "    print(b,type(b))\n",
    "    print(c,type(c))\n",
    "    return\n",
    "\n",
    "rty('Divya',state='AP',10,45,20,True,name='Suresh',age=50,addr='Rjy')"
   ]
  },
  {
   "cell_type": "markdown",
   "id": "3666b36f",
   "metadata": {},
   "source": [
    "# Packages and Modules:\n",
    "    Package:\n",
    "        - Collection of Modules\n",
    "    Modules:\n",
    "        - Collection of variables,functions,class,methods and objects"
   ]
  },
  {
   "cell_type": "code",
   "execution_count": 1,
   "id": "e96ea46f",
   "metadata": {},
   "outputs": [],
   "source": [
    "import sample"
   ]
  },
  {
   "cell_type": "code",
   "execution_count": 2,
   "id": "a3ab1846",
   "metadata": {},
   "outputs": [
    {
     "name": "stdout",
     "output_type": "stream",
     "text": [
      "['__builtins__', '__cached__', '__doc__', '__file__', '__loader__', '__name__', '__package__', '__spec__', 'a', 'ad']\n"
     ]
    }
   ],
   "source": [
    "print(dir(sample))"
   ]
  },
  {
   "cell_type": "code",
   "execution_count": 22,
   "id": "dec894b0",
   "metadata": {},
   "outputs": [
    {
     "name": "stdout",
     "output_type": "stream",
     "text": [
      "100\n"
     ]
    }
   ],
   "source": [
    "print(sample.a)"
   ]
  },
  {
   "cell_type": "code",
   "execution_count": 3,
   "id": "6df62d11",
   "metadata": {},
   "outputs": [
    {
     "name": "stdout",
     "output_type": "stream",
     "text": [
      "11\n"
     ]
    }
   ],
   "source": [
    "print(sample.ad(2,9))"
   ]
  },
  {
   "cell_type": "code",
   "execution_count": 4,
   "id": "00d0709c",
   "metadata": {},
   "outputs": [],
   "source": [
    "from Demo import test"
   ]
  },
  {
   "cell_type": "code",
   "execution_count": 5,
   "id": "4893a588",
   "metadata": {},
   "outputs": [
    {
     "name": "stdout",
     "output_type": "stream",
     "text": [
      "['__builtins__', '__cached__', '__doc__', '__file__', '__loader__', '__name__', '__package__', '__spec__', 'b']\n"
     ]
    }
   ],
   "source": [
    "print(dir(test))"
   ]
  },
  {
   "cell_type": "code",
   "execution_count": 6,
   "id": "eaad939d",
   "metadata": {},
   "outputs": [
    {
     "name": "stdout",
     "output_type": "stream",
     "text": [
      "Ramesh\n"
     ]
    }
   ],
   "source": [
    "print(test.b)"
   ]
  },
  {
   "cell_type": "code",
   "execution_count": 1,
   "id": "0f90cd05",
   "metadata": {},
   "outputs": [],
   "source": [
    "from Demo.test import *"
   ]
  },
  {
   "cell_type": "code",
   "execution_count": 2,
   "id": "42132b4b",
   "metadata": {},
   "outputs": [
    {
     "name": "stdout",
     "output_type": "stream",
     "text": [
      "Ramesh\n"
     ]
    }
   ],
   "source": [
    "print(b)"
   ]
  },
  {
   "cell_type": "code",
   "execution_count": 3,
   "id": "bb5b64fb",
   "metadata": {},
   "outputs": [
    {
     "name": "stdout",
     "output_type": "stream",
     "text": [
      "1\n"
     ]
    }
   ],
   "source": [
    "print(sb(4,3))"
   ]
  },
  {
   "cell_type": "code",
   "execution_count": null,
   "id": "b594ca32",
   "metadata": {},
   "outputs": [],
   "source": []
  }
 ],
 "metadata": {
  "kernelspec": {
   "display_name": "Python 3",
   "language": "python",
   "name": "python3"
  },
  "language_info": {
   "codemirror_mode": {
    "name": "ipython",
    "version": 3
   },
   "file_extension": ".py",
   "mimetype": "text/x-python",
   "name": "python",
   "nbconvert_exporter": "python",
   "pygments_lexer": "ipython3",
   "version": "3.7.5"
  }
 },
 "nbformat": 4,
 "nbformat_minor": 5
}
